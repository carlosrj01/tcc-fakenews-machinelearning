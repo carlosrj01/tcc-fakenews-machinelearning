{
 "cells": [
  {
   "cell_type": "markdown",
   "id": "f79de5f2",
   "metadata": {},
   "source": [
    "# Importação das bibliotecas"
   ]
  },
  {
   "cell_type": "code",
   "execution_count": 1,
   "id": "b5c63928",
   "metadata": {},
   "outputs": [],
   "source": [
    "import numpy as np\n",
    "import pandas as pd\n",
    "from sklearn.model_selection import train_test_split\n",
    "from sklearn.feature_extraction.text import TfidfVectorizer\n",
    "from sklearn.neural_network import MLPClassifier\n",
    "from sklearn.metrics import accuracy_score, confusion_matrix, classification_report"
   ]
  },
  {
   "cell_type": "code",
   "execution_count": 21,
   "id": "a1122b22",
   "metadata": {},
   "outputs": [
    {
     "data": {
      "text/html": [
       "<div>\n",
       "<style scoped>\n",
       "    .dataframe tbody tr th:only-of-type {\n",
       "        vertical-align: middle;\n",
       "    }\n",
       "\n",
       "    .dataframe tbody tr th {\n",
       "        vertical-align: top;\n",
       "    }\n",
       "\n",
       "    .dataframe thead th {\n",
       "        text-align: right;\n",
       "    }\n",
       "</style>\n",
       "<table border=\"1\" class=\"dataframe\">\n",
       "  <thead>\n",
       "    <tr style=\"text-align: right;\">\n",
       "      <th></th>\n",
       "      <th>index</th>\n",
       "      <th>label</th>\n",
       "      <th>preprocessed_news</th>\n",
       "    </tr>\n",
       "  </thead>\n",
       "  <tbody>\n",
       "    <tr>\n",
       "      <th>0</th>\n",
       "      <td>0</td>\n",
       "      <td>fake</td>\n",
       "      <td>katia abreu diz vai colocar expulsao moldura n...</td>\n",
       "    </tr>\n",
       "    <tr>\n",
       "      <th>1</th>\n",
       "      <td>1</td>\n",
       "      <td>fake</td>\n",
       "      <td>ray peita bolsonaro conservador fake entrevist...</td>\n",
       "    </tr>\n",
       "    <tr>\n",
       "      <th>2</th>\n",
       "      <td>2</td>\n",
       "      <td>fake</td>\n",
       "      <td>reinaldo azevedo desmascarado policia federal ...</td>\n",
       "    </tr>\n",
       "    <tr>\n",
       "      <th>3</th>\n",
       "      <td>3</td>\n",
       "      <td>fake</td>\n",
       "      <td>relatorio assustador bndes mostra dinheiro pub...</td>\n",
       "    </tr>\n",
       "    <tr>\n",
       "      <th>4</th>\n",
       "      <td>4</td>\n",
       "      <td>fake</td>\n",
       "      <td>radialista americano fala sobre pt vendem ilus...</td>\n",
       "    </tr>\n",
       "    <tr>\n",
       "      <th>...</th>\n",
       "      <td>...</td>\n",
       "      <td>...</td>\n",
       "      <td>...</td>\n",
       "    </tr>\n",
       "    <tr>\n",
       "      <th>7195</th>\n",
       "      <td>7195</td>\n",
       "      <td>true</td>\n",
       "      <td>jornal britanico acao contra lula lava jato se...</td>\n",
       "    </tr>\n",
       "    <tr>\n",
       "      <th>7196</th>\n",
       "      <td>7196</td>\n",
       "      <td>true</td>\n",
       "      <td>temer diz acionou pf cade investigar aumentos ...</td>\n",
       "    </tr>\n",
       "    <tr>\n",
       "      <th>7197</th>\n",
       "      <td>7197</td>\n",
       "      <td>true</td>\n",
       "      <td>obstaculos politicos temer especialistas ouvid...</td>\n",
       "    </tr>\n",
       "    <tr>\n",
       "      <th>7198</th>\n",
       "      <td>7198</td>\n",
       "      <td>true</td>\n",
       "      <td>setembro boa noite aqui estao principais notic...</td>\n",
       "    </tr>\n",
       "    <tr>\n",
       "      <th>7199</th>\n",
       "      <td>7199</td>\n",
       "      <td>true</td>\n",
       "      <td>envolvo politica diz brasileiro preso venezuel...</td>\n",
       "    </tr>\n",
       "  </tbody>\n",
       "</table>\n",
       "<p>7200 rows × 3 columns</p>\n",
       "</div>"
      ],
      "text/plain": [
       "      index label                                  preprocessed_news\n",
       "0         0  fake  katia abreu diz vai colocar expulsao moldura n...\n",
       "1         1  fake  ray peita bolsonaro conservador fake entrevist...\n",
       "2         2  fake  reinaldo azevedo desmascarado policia federal ...\n",
       "3         3  fake  relatorio assustador bndes mostra dinheiro pub...\n",
       "4         4  fake  radialista americano fala sobre pt vendem ilus...\n",
       "...     ...   ...                                                ...\n",
       "7195   7195  true  jornal britanico acao contra lula lava jato se...\n",
       "7196   7196  true  temer diz acionou pf cade investigar aumentos ...\n",
       "7197   7197  true  obstaculos politicos temer especialistas ouvid...\n",
       "7198   7198  true  setembro boa noite aqui estao principais notic...\n",
       "7199   7199  true  envolvo politica diz brasileiro preso venezuel...\n",
       "\n",
       "[7200 rows x 3 columns]"
      ]
     },
     "execution_count": 21,
     "metadata": {},
     "output_type": "execute_result"
    }
   ],
   "source": [
    "# Utilizando a base de dados do Fake.br Corpus\n",
    "base_news = pd.read_csv(\"pre-processed.csv\", sep=\",\")\n",
    "base_news"
   ]
  },
  {
   "cell_type": "code",
   "execution_count": 22,
   "id": "3bcf3ac9",
   "metadata": {},
   "outputs": [
    {
     "data": {
      "text/html": [
       "<div>\n",
       "<style scoped>\n",
       "    .dataframe tbody tr th:only-of-type {\n",
       "        vertical-align: middle;\n",
       "    }\n",
       "\n",
       "    .dataframe tbody tr th {\n",
       "        vertical-align: top;\n",
       "    }\n",
       "\n",
       "    .dataframe thead th {\n",
       "        text-align: right;\n",
       "    }\n",
       "</style>\n",
       "<table border=\"1\" class=\"dataframe\">\n",
       "  <thead>\n",
       "    <tr style=\"text-align: right;\">\n",
       "      <th></th>\n",
       "      <th>preprocessed_news</th>\n",
       "      <th>class</th>\n",
       "    </tr>\n",
       "  </thead>\n",
       "  <tbody>\n",
       "    <tr>\n",
       "      <th>0</th>\n",
       "      <td>katia abreu diz vai colocar expulsao moldura n...</td>\n",
       "      <td>fake</td>\n",
       "    </tr>\n",
       "    <tr>\n",
       "      <th>1</th>\n",
       "      <td>ray peita bolsonaro conservador fake entrevist...</td>\n",
       "      <td>fake</td>\n",
       "    </tr>\n",
       "    <tr>\n",
       "      <th>2</th>\n",
       "      <td>reinaldo azevedo desmascarado policia federal ...</td>\n",
       "      <td>fake</td>\n",
       "    </tr>\n",
       "    <tr>\n",
       "      <th>3</th>\n",
       "      <td>relatorio assustador bndes mostra dinheiro pub...</td>\n",
       "      <td>fake</td>\n",
       "    </tr>\n",
       "    <tr>\n",
       "      <th>4</th>\n",
       "      <td>radialista americano fala sobre pt vendem ilus...</td>\n",
       "      <td>fake</td>\n",
       "    </tr>\n",
       "    <tr>\n",
       "      <th>...</th>\n",
       "      <td>...</td>\n",
       "      <td>...</td>\n",
       "    </tr>\n",
       "    <tr>\n",
       "      <th>7195</th>\n",
       "      <td>jornal britanico acao contra lula lava jato se...</td>\n",
       "      <td>true</td>\n",
       "    </tr>\n",
       "    <tr>\n",
       "      <th>7196</th>\n",
       "      <td>temer diz acionou pf cade investigar aumentos ...</td>\n",
       "      <td>true</td>\n",
       "    </tr>\n",
       "    <tr>\n",
       "      <th>7197</th>\n",
       "      <td>obstaculos politicos temer especialistas ouvid...</td>\n",
       "      <td>true</td>\n",
       "    </tr>\n",
       "    <tr>\n",
       "      <th>7198</th>\n",
       "      <td>setembro boa noite aqui estao principais notic...</td>\n",
       "      <td>true</td>\n",
       "    </tr>\n",
       "    <tr>\n",
       "      <th>7199</th>\n",
       "      <td>envolvo politica diz brasileiro preso venezuel...</td>\n",
       "      <td>true</td>\n",
       "    </tr>\n",
       "  </tbody>\n",
       "</table>\n",
       "<p>7200 rows × 2 columns</p>\n",
       "</div>"
      ],
      "text/plain": [
       "                                      preprocessed_news class\n",
       "0     katia abreu diz vai colocar expulsao moldura n...  fake\n",
       "1     ray peita bolsonaro conservador fake entrevist...  fake\n",
       "2     reinaldo azevedo desmascarado policia federal ...  fake\n",
       "3     relatorio assustador bndes mostra dinheiro pub...  fake\n",
       "4     radialista americano fala sobre pt vendem ilus...  fake\n",
       "...                                                 ...   ...\n",
       "7195  jornal britanico acao contra lula lava jato se...  true\n",
       "7196  temer diz acionou pf cade investigar aumentos ...  true\n",
       "7197  obstaculos politicos temer especialistas ouvid...  true\n",
       "7198  setembro boa noite aqui estao principais notic...  true\n",
       "7199  envolvo politica diz brasileiro preso venezuel...  true\n",
       "\n",
       "[7200 rows x 2 columns]"
      ]
     },
     "execution_count": 22,
     "metadata": {},
     "output_type": "execute_result"
    }
   ],
   "source": [
    "# organizaremos a base de forma que a classe fique como última coluna e removeremos colunas que não serão utilizadas.\n",
    "base_news['class'] = base_news['label']\n",
    "base_news = base_news.drop(columns=['index','label'])\n",
    "base_news"
   ]
  },
  {
   "cell_type": "code",
   "execution_count": 23,
   "id": "f1a3ec1a",
   "metadata": {},
   "outputs": [
    {
     "data": {
      "text/html": [
       "<div>\n",
       "<style scoped>\n",
       "    .dataframe tbody tr th:only-of-type {\n",
       "        vertical-align: middle;\n",
       "    }\n",
       "\n",
       "    .dataframe tbody tr th {\n",
       "        vertical-align: top;\n",
       "    }\n",
       "\n",
       "    .dataframe thead th {\n",
       "        text-align: right;\n",
       "    }\n",
       "</style>\n",
       "<table border=\"1\" class=\"dataframe\">\n",
       "  <thead>\n",
       "    <tr style=\"text-align: right;\">\n",
       "      <th></th>\n",
       "      <th>preprocessed_news</th>\n",
       "      <th>class</th>\n",
       "    </tr>\n",
       "  </thead>\n",
       "  <tbody>\n",
       "    <tr>\n",
       "      <th>0</th>\n",
       "      <td>katia abreu diz vai colocar expulsao moldura n...</td>\n",
       "      <td>fake</td>\n",
       "    </tr>\n",
       "    <tr>\n",
       "      <th>1</th>\n",
       "      <td>ray peita bolsonaro conservador fake entrevist...</td>\n",
       "      <td>fake</td>\n",
       "    </tr>\n",
       "    <tr>\n",
       "      <th>2</th>\n",
       "      <td>reinaldo azevedo desmascarado policia federal ...</td>\n",
       "      <td>fake</td>\n",
       "    </tr>\n",
       "    <tr>\n",
       "      <th>3</th>\n",
       "      <td>relatorio assustador bndes mostra dinheiro pub...</td>\n",
       "      <td>fake</td>\n",
       "    </tr>\n",
       "    <tr>\n",
       "      <th>4</th>\n",
       "      <td>radialista americano fala sobre pt vendem ilus...</td>\n",
       "      <td>fake</td>\n",
       "    </tr>\n",
       "  </tbody>\n",
       "</table>\n",
       "</div>"
      ],
      "text/plain": [
       "                                   preprocessed_news class\n",
       "0  katia abreu diz vai colocar expulsao moldura n...  fake\n",
       "1  ray peita bolsonaro conservador fake entrevist...  fake\n",
       "2  reinaldo azevedo desmascarado policia federal ...  fake\n",
       "3  relatorio assustador bndes mostra dinheiro pub...  fake\n",
       "4  radialista americano fala sobre pt vendem ilus...  fake"
      ]
     },
     "execution_count": 23,
     "metadata": {},
     "output_type": "execute_result"
    }
   ],
   "source": [
    "#Exemplo de fake news\n",
    "base_news.head()"
   ]
  },
  {
   "cell_type": "code",
   "execution_count": 24,
   "id": "dc5e3da6",
   "metadata": {},
   "outputs": [
    {
     "data": {
      "text/html": [
       "<div>\n",
       "<style scoped>\n",
       "    .dataframe tbody tr th:only-of-type {\n",
       "        vertical-align: middle;\n",
       "    }\n",
       "\n",
       "    .dataframe tbody tr th {\n",
       "        vertical-align: top;\n",
       "    }\n",
       "\n",
       "    .dataframe thead th {\n",
       "        text-align: right;\n",
       "    }\n",
       "</style>\n",
       "<table border=\"1\" class=\"dataframe\">\n",
       "  <thead>\n",
       "    <tr style=\"text-align: right;\">\n",
       "      <th></th>\n",
       "      <th>preprocessed_news</th>\n",
       "      <th>class</th>\n",
       "    </tr>\n",
       "  </thead>\n",
       "  <tbody>\n",
       "    <tr>\n",
       "      <th>7195</th>\n",
       "      <td>jornal britanico acao contra lula lava jato se...</td>\n",
       "      <td>true</td>\n",
       "    </tr>\n",
       "    <tr>\n",
       "      <th>7196</th>\n",
       "      <td>temer diz acionou pf cade investigar aumentos ...</td>\n",
       "      <td>true</td>\n",
       "    </tr>\n",
       "    <tr>\n",
       "      <th>7197</th>\n",
       "      <td>obstaculos politicos temer especialistas ouvid...</td>\n",
       "      <td>true</td>\n",
       "    </tr>\n",
       "    <tr>\n",
       "      <th>7198</th>\n",
       "      <td>setembro boa noite aqui estao principais notic...</td>\n",
       "      <td>true</td>\n",
       "    </tr>\n",
       "    <tr>\n",
       "      <th>7199</th>\n",
       "      <td>envolvo politica diz brasileiro preso venezuel...</td>\n",
       "      <td>true</td>\n",
       "    </tr>\n",
       "  </tbody>\n",
       "</table>\n",
       "</div>"
      ],
      "text/plain": [
       "                                      preprocessed_news class\n",
       "7195  jornal britanico acao contra lula lava jato se...  true\n",
       "7196  temer diz acionou pf cade investigar aumentos ...  true\n",
       "7197  obstaculos politicos temer especialistas ouvid...  true\n",
       "7198  setembro boa noite aqui estao principais notic...  true\n",
       "7199  envolvo politica diz brasileiro preso venezuel...  true"
      ]
     },
     "execution_count": 24,
     "metadata": {},
     "output_type": "execute_result"
    }
   ],
   "source": [
    "#Exemplo de true news\n",
    "base_news.tail()"
   ]
  },
  {
   "cell_type": "markdown",
   "id": "0906649c",
   "metadata": {},
   "source": [
    "# Separação dos atributos em X e y\n"
   ]
  },
  {
   "cell_type": "code",
   "execution_count": 25,
   "id": "e8027fdc",
   "metadata": {},
   "outputs": [],
   "source": [
    "# Separar os atributos independentes (X = coluna preprocessed_news) e atributo independente (y = coluna class)\n",
    "X_base_news = base_news.iloc[:,0]\n",
    "y_base_news = base_news.iloc[:,1]"
   ]
  },
  {
   "cell_type": "code",
   "execution_count": 26,
   "id": "110b4f8e",
   "metadata": {},
   "outputs": [
    {
     "data": {
      "text/plain": [
       "0       katia abreu diz vai colocar expulsao moldura n...\n",
       "1       ray peita bolsonaro conservador fake entrevist...\n",
       "2       reinaldo azevedo desmascarado policia federal ...\n",
       "3       relatorio assustador bndes mostra dinheiro pub...\n",
       "4       radialista americano fala sobre pt vendem ilus...\n",
       "                              ...                        \n",
       "7195    jornal britanico acao contra lula lava jato se...\n",
       "7196    temer diz acionou pf cade investigar aumentos ...\n",
       "7197    obstaculos politicos temer especialistas ouvid...\n",
       "7198    setembro boa noite aqui estao principais notic...\n",
       "7199    envolvo politica diz brasileiro preso venezuel...\n",
       "Name: preprocessed_news, Length: 7200, dtype: object"
      ]
     },
     "execution_count": 26,
     "metadata": {},
     "output_type": "execute_result"
    }
   ],
   "source": [
    "X_base_news"
   ]
  },
  {
   "cell_type": "code",
   "execution_count": 27,
   "id": "c8fc9d4c",
   "metadata": {},
   "outputs": [
    {
     "data": {
      "text/plain": [
       "0       fake\n",
       "1       fake\n",
       "2       fake\n",
       "3       fake\n",
       "4       fake\n",
       "        ... \n",
       "7195    true\n",
       "7196    true\n",
       "7197    true\n",
       "7198    true\n",
       "7199    true\n",
       "Name: class, Length: 7200, dtype: object"
      ]
     },
     "execution_count": 27,
     "metadata": {},
     "output_type": "execute_result"
    }
   ],
   "source": [
    "y_base_news"
   ]
  },
  {
   "cell_type": "markdown",
   "id": "866ba651",
   "metadata": {},
   "source": [
    "# Transformando textos em cadeias de números"
   ]
  },
  {
   "cell_type": "code",
   "execution_count": 29,
   "id": "6a85e30b",
   "metadata": {},
   "outputs": [
    {
     "data": {
      "text/plain": [
       "<7200x79541 sparse matrix of type '<class 'numpy.float64'>'\n",
       "\twith 1705040 stored elements in Compressed Sparse Row format>"
      ]
     },
     "execution_count": 29,
     "metadata": {},
     "output_type": "execute_result"
    }
   ],
   "source": [
    "#utilizaremos a biblioteca TfidfVectorizer para essa transformação.\n",
    "vetorizador = TfidfVectorizer()\n",
    "X_base_news_vetorizado = vetorizador.fit_transform(X_base_news)\n",
    "X_base_news_vetorizado"
   ]
  },
  {
   "cell_type": "markdown",
   "id": "19d95258",
   "metadata": {},
   "source": [
    "# Separando as bases entre treinamento e teste"
   ]
  },
  {
   "cell_type": "code",
   "execution_count": 94,
   "id": "84a3e280",
   "metadata": {},
   "outputs": [],
   "source": [
    "X_base_news_treinamento, X_base_news_teste, y_base_news_treinamento, y_base_news_teste = \\\n",
    "train_test_split(X_base_news_vetorizado, y_base_news, test_size=0.15, random_state=1)"
   ]
  },
  {
   "cell_type": "code",
   "execution_count": 95,
   "id": "b9bc7b3f",
   "metadata": {},
   "outputs": [
    {
     "data": {
      "text/plain": [
       "((6120, 79541), (6120,))"
      ]
     },
     "execution_count": 95,
     "metadata": {},
     "output_type": "execute_result"
    }
   ],
   "source": [
    "X_base_news_treinamento.shape, y_base_news_treinamento.shape"
   ]
  },
  {
   "cell_type": "code",
   "execution_count": 96,
   "id": "02bd29c3",
   "metadata": {},
   "outputs": [
    {
     "data": {
      "text/plain": [
       "((1080, 79541), (1080,))"
      ]
     },
     "execution_count": 96,
     "metadata": {},
     "output_type": "execute_result"
    }
   ],
   "source": [
    "X_base_news_teste.shape, y_base_news_teste.shape"
   ]
  },
  {
   "cell_type": "markdown",
   "id": "acc4d272",
   "metadata": {},
   "source": [
    "# Treinando as redes neurais"
   ]
  },
  {
   "cell_type": "code",
   "execution_count": 97,
   "id": "3dc5ee57",
   "metadata": {},
   "outputs": [
    {
     "data": {
      "text/plain": [
       "MLPClassifier(hidden_layer_sizes=(5, 5), max_iter=1500, tol=1e-05)"
      ]
     },
     "execution_count": 97,
     "metadata": {},
     "output_type": "execute_result"
    }
   ],
   "source": [
    "rede_neural_news = MLPClassifier(max_iter=1500, tol=0.0000100, solver='adam', activation = 'relu', hidden_layer_sizes = (5,5))\n",
    "rede_neural_news.fit(X_base_news_treinamento, y_base_news_treinamento)"
   ]
  },
  {
   "cell_type": "code",
   "execution_count": 98,
   "id": "c987551e",
   "metadata": {},
   "outputs": [],
   "source": [
    "previsoes = rede_neural_news.predict(X_base_news_teste)"
   ]
  },
  {
   "cell_type": "code",
   "execution_count": 99,
   "id": "2cf75527",
   "metadata": {},
   "outputs": [
    {
     "data": {
      "text/plain": [
       "array(['fake', 'true', 'fake', ..., 'true', 'true', 'true'], dtype='<U4')"
      ]
     },
     "execution_count": 99,
     "metadata": {},
     "output_type": "execute_result"
    }
   ],
   "source": [
    "previsoes"
   ]
  },
  {
   "cell_type": "code",
   "execution_count": 100,
   "id": "a33b0a08",
   "metadata": {},
   "outputs": [
    {
     "data": {
      "text/plain": [
       "7152    true\n",
       "6074    true\n",
       "1790    fake\n",
       "3242    fake\n",
       "4067    true\n",
       "        ... \n",
       "4760    true\n",
       "1991    fake\n",
       "4616    true\n",
       "5146    true\n",
       "4532    true\n",
       "Name: class, Length: 1080, dtype: object"
      ]
     },
     "execution_count": 100,
     "metadata": {},
     "output_type": "execute_result"
    }
   ],
   "source": [
    "y_base_news_teste"
   ]
  },
  {
   "cell_type": "code",
   "execution_count": 101,
   "id": "432ba44e",
   "metadata": {},
   "outputs": [
    {
     "data": {
      "text/plain": [
       "0.95"
      ]
     },
     "execution_count": 101,
     "metadata": {},
     "output_type": "execute_result"
    }
   ],
   "source": [
    "accuracy_score(y_base_news_teste,previsoes)"
   ]
  },
  {
   "cell_type": "code",
   "execution_count": 102,
   "id": "b736efdc",
   "metadata": {},
   "outputs": [
    {
     "data": {
      "text/plain": [
       "array([[508,  29],\n",
       "       [ 25, 518]], dtype=int64)"
      ]
     },
     "execution_count": 102,
     "metadata": {},
     "output_type": "execute_result"
    }
   ],
   "source": [
    "confusion_matrix(y_base_news_teste,previsoes)"
   ]
  },
  {
   "cell_type": "code",
   "execution_count": 103,
   "id": "7b896999",
   "metadata": {},
   "outputs": [
    {
     "name": "stdout",
     "output_type": "stream",
     "text": [
      "              precision    recall  f1-score   support\n",
      "\n",
      "        fake       0.95      0.95      0.95       537\n",
      "        true       0.95      0.95      0.95       543\n",
      "\n",
      "    accuracy                           0.95      1080\n",
      "   macro avg       0.95      0.95      0.95      1080\n",
      "weighted avg       0.95      0.95      0.95      1080\n",
      "\n"
     ]
    }
   ],
   "source": [
    "print(classification_report(y_base_news_teste,previsoes))"
   ]
  },
  {
   "cell_type": "code",
   "execution_count": null,
   "id": "3d080311",
   "metadata": {},
   "outputs": [],
   "source": []
  }
 ],
 "metadata": {
  "kernelspec": {
   "display_name": "Python 3",
   "language": "python",
   "name": "python3"
  },
  "language_info": {
   "codemirror_mode": {
    "name": "ipython",
    "version": 3
   },
   "file_extension": ".py",
   "mimetype": "text/x-python",
   "name": "python",
   "nbconvert_exporter": "python",
   "pygments_lexer": "ipython3",
   "version": "3.8.8"
  }
 },
 "nbformat": 4,
 "nbformat_minor": 5
}
